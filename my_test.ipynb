{
 "cells": [
  {
   "cell_type": "code",
   "execution_count": 32,
   "metadata": {},
   "outputs": [],
   "source": [
    "import sys\n",
    "sys.dont_write_bytecode = True\n",
    "import torch\n",
    "import torchaudio\n",
    "import numpy as np\n",
    "import logging\n",
    "from math import ceil\n",
    "from IPython.display import Audio\n",
    "from datasets import load_dataset\n",
    "from torchaudio.utils import download_asset\n",
    "from transformers import (\n",
    "    AutoConfig,\n",
    "    AutoTokenizer,\n",
    "    AutoFeatureExtractor,\n",
    "    AutoProcessor,\n",
    "    AutoModelForTokenClassification,\n",
    "    AutoModelForSpeechSeq2Seq,\n",
    ")\n",
    "logger = logging.getLogger(__name__)"
   ]
  },
  {
   "cell_type": "code",
   "execution_count": 39,
   "metadata": {},
   "outputs": [
    {
     "name": "stderr",
     "output_type": "stream",
     "text": [
      "Found cached dataset librispeech_asr_dummy (/home/dsi/yufli/.cache/huggingface/datasets/hf-internal-testing___librispeech_asr_dummy/clean/2.1.0/d3bc4c2bc2078fcde3ad0f0f635862e4c0fef78ba94c4a34c4c250a097af240b)\n"
     ]
    },
    {
     "name": "stdout",
     "output_type": "stream",
     "text": [
      "{'file': '/home/dsi/yufli/.cache/huggingface/datasets/downloads/extracted/5ba09ef6b894abb464d75cd808e698989ca02bee1a319e32881496d99d728500/dev_clean/1272/128104/1272-128104-0000.flac', 'audio': {'path': '/home/dsi/yufli/.cache/huggingface/datasets/downloads/extracted/5ba09ef6b894abb464d75cd808e698989ca02bee1a319e32881496d99d728500/dev_clean/1272/128104/1272-128104-0000.flac', 'array': array([0.00238037, 0.0020752 , 0.00198364, ..., 0.00042725, 0.00057983,\n",
      "       0.0010376 ], dtype=float32), 'sampling_rate': 16000}, 'text': 'MISTER QUILTER IS THE APOSTLE OF THE MIDDLE CLASSES AND WE ARE GLAD TO WELCOME HIS GOSPEL', 'speaker_id': 1272, 'chapter_id': 128104, 'id': '1272-128104-0000'}\n",
      "torch.Size([1, 584, 80])\n",
      "odict_keys(['sequences', 'sequences_scores', 'scores', 'beam_indices'])\n",
      "tensor([[   2,  129, 8053,   66,   30,    4, 5878,    8,    4, 1080, 3353,    5,\n",
      "            6,   52,   60,  534,    9, 1524,   20, 5517,    2]])\n",
      "mister quilter is the apostle of the middle classes and we are glad to welcome his gospel\n"
     ]
    }
   ],
   "source": [
    "tokenizer = AutoTokenizer.from_pretrained(\"facebook/s2t-small-librispeech-asr\")\n",
    "model = AutoModelForSpeechSeq2Seq.from_pretrained(\"facebook/s2t-small-librispeech-asr\")\n",
    "processor = AutoProcessor.from_pretrained(\"facebook/s2t-small-librispeech-asr\")\n",
    "feature_extractor = AutoFeatureExtractor.from_pretrained(\"facebook/s2t-small-librispeech-asr\")\n",
    "ds = load_dataset(\"hf-internal-testing/librispeech_asr_dummy\", \"clean\", split=\"validation\")\n",
    "# print(model)\n",
    "print(ds[0])\n",
    "\n",
    "inputs = processor(\n",
    "    ds[0][\"audio\"][\"array\"], \n",
    "    sampling_rate=ds[0][\"audio\"][\"sampling_rate\"], \n",
    "    return_tensors=\"pt\",\n",
    ") # input_features, attention_mask\n",
    "input_features = inputs.input_features\n",
    "print(input_features.shape)\n",
    "outputs = model.generate(\n",
    "    inputs=input_features,\n",
    "    max_length=128,\n",
    "    output_scores=True,\n",
    "    return_dict_in_generate=True,\n",
    ")\n",
    "print(outputs.keys())\n",
    "seqs, seq_scores, scores = outputs.sequences, outputs.sequences_scores, outputs.scores\n",
    "print(seqs)\n",
    "transcription = processor.batch_decode(seqs, skip_special_tokens=True)[0]\n",
    "print(transcription)"
   ]
  },
  {
   "cell_type": "code",
   "execution_count": 42,
   "metadata": {},
   "outputs": [
    {
     "name": "stdout",
     "output_type": "stream",
     "text": [
      "{'bos_token': '<s>', 'eos_token': '</s>', 'unk_token': '<unk>', 'pad_token': '<pad>'}\n",
      "[0, 2, 3, 1]\n",
      "['<s>', '</s>', '<unk>', '<pad>']\n",
      "0 2 3 1\n",
      "seqs: tensor([[2, 2],\n",
      "        [2, 2],\n",
      "        [2, 2]])\n",
      "seqs: tensor([[2, 2],\n",
      "        [2, 2],\n",
      "        [2, 2]])\n",
      "seqs: tensor([[2, 2],\n",
      "        [2, 2],\n",
      "        [2, 2]])\n",
      "seqs: tensor([[2, 2],\n",
      "        [2, 2],\n",
      "        [2, 2]])\n",
      "seqs: tensor([[2, 2],\n",
      "        [2, 2],\n",
      "        [2, 2]])\n",
      "seqs: tensor([[2, 2],\n",
      "        [2, 2],\n",
      "        [2, 2]])\n",
      "seqs: tensor([[2, 2],\n",
      "        [2, 2],\n",
      "        [2, 2]])\n",
      "seqs: tensor([[2, 2],\n",
      "        [2, 2],\n",
      "        [2, 2]])\n",
      "seqs: tensor([[2, 2],\n",
      "        [2, 2],\n",
      "        [2, 2]])\n",
      "seqs: tensor([[2, 2],\n",
      "        [2, 2],\n",
      "        [2, 2]])\n"
     ]
    }
   ],
   "source": [
    "from argparse import Namespace\n",
    "from uncertainty import convert_dropouts, activate_mc_dropout\n",
    "\n",
    "committee_size = 10\n",
    "data_uncertainty = \"entropy\"\n",
    "model_uncertainty = \"bald\"\n",
    "dropout_args = Namespace(\n",
    "    max_n=100,\n",
    "    max_frac=0.4,\n",
    "    mask_name=\"mc\",\n",
    "    dry_run_dataset=\"train\",\n",
    ")\n",
    "uncertainty_args = Namespace(\n",
    "    dropout_type=\"MC\",\n",
    "    data_ue_type=data_uncertainty,\n",
    "    inference_prob=0.1,\n",
    "    committee_size=committee_size,  # number of forward passes\n",
    "    dropout_subs=\"last\",\n",
    "    eval_bs=1000,\n",
    "    use_cache=True,\n",
    "    eval_passes=False,\n",
    "    dropout=dropout_args,\n",
    ")\n",
    "\n",
    "# a = [torch.rand(20, 10000), torch.rand(24, 10000), torch.rand(16, 10000)]\n",
    "# batch_scores = processor.feature_extractor.pad(a, return_tensors=\"pt\")\n",
    "print(tokenizer.special_tokens_map)\n",
    "print(tokenizer.all_special_ids)\n",
    "print(tokenizer.all_special_tokens)\n",
    "print(tokenizer.bos_token_id, tokenizer.eos_token_id, tokenizer.unk_token_id, tokenizer.pad_token_id)\n",
    "input_features = torch.rand(3, 20, 80)\n",
    "convert_dropouts(model, uncertainty_args)\n",
    "activate_mc_dropout(model, activate=True, random=uncertainty_args.inference_prob)\n",
    "\n",
    "dropout_eval_results = {}\n",
    "dropout_eval_results[\"sampled_probabilities\"] = []\n",
    "for _ in range(committee_size):\n",
    "    outputs = model.generate(\n",
    "        inputs=input_features,\n",
    "        max_length=128,\n",
    "        output_scores=True,\n",
    "        return_dict_in_generate=True,\n",
    "    )\n",
    "    scores = outputs.scores\n",
    "    # print(\"scores[0]: {}\".format(scores[0]))\n",
    "    print(\"seqs: {}\".format(outputs.sequences))\n",
    "\n",
    "activate_mc_dropout(model, activate=False)\n",
    "logger.info(\"*******Done!!!*******\")"
   ]
  },
  {
   "cell_type": "code",
   "execution_count": 36,
   "metadata": {},
   "outputs": [
    {
     "name": "stderr",
     "output_type": "stream",
     "text": [
      "Some weights of GPT2ForTokenClassification were not initialized from the model checkpoint at gpt2 and are newly initialized: ['h.1.attn.masked_bias', 'classifier.weight', 'h.0.attn.masked_bias', 'classifier.bias', 'h.10.attn.masked_bias', 'h.8.attn.masked_bias', 'h.4.attn.masked_bias', 'h.11.attn.masked_bias', 'h.6.attn.masked_bias', 'h.7.attn.masked_bias', 'h.2.attn.masked_bias', 'h.5.attn.masked_bias', 'h.9.attn.masked_bias', 'h.3.attn.masked_bias']\n",
      "You should probably TRAIN this model on a down-stream task to be able to use it for predictions and inference.\n"
     ]
    },
    {
     "name": "stdout",
     "output_type": "stream",
     "text": [
      "{'input_ids': tensor([[  40, 1842,  428, 1295],\n",
      "        [  40, 5465,  428, 1295]]), 'attention_mask': tensor([[1, 1, 1, 1],\n",
      "        [1, 1, 1, 1]])}\n",
      "logits: tensor([[[ 1.0202, -2.4701],\n",
      "         [ 0.7512, -7.6413],\n",
      "         [ 0.6260, -7.9067],\n",
      "         [ 1.8087, -5.9542]],\n",
      "\n",
      "        [[ 0.2714, -2.1482],\n",
      "         [ 0.9459, -7.9431],\n",
      "         [ 0.5400, -7.6978],\n",
      "         [ 1.5450, -5.8881]]], grad_fn=<ViewBackward0>)\n",
      "logits: tensor([[[ 0.3682, -2.1658],\n",
      "         [ 0.8281, -7.3224],\n",
      "         [ 1.7518, -8.7590],\n",
      "         [ 1.5861, -6.0497]],\n",
      "\n",
      "        [[ 0.9516, -2.3221],\n",
      "         [ 1.0073, -6.4005],\n",
      "         [ 0.4350, -7.7834],\n",
      "         [ 2.5134, -6.5037]]], grad_fn=<ViewBackward0>)\n",
      "logits: tensor([[[ 0.3364, -2.2315],\n",
      "         [ 1.9512, -8.2868],\n",
      "         [ 0.5974, -8.0248],\n",
      "         [-0.0716, -0.0310]],\n",
      "\n",
      "        [[-0.0721,  0.1940],\n",
      "         [ 0.9060, -8.0302],\n",
      "         [ 0.6450, -7.7281],\n",
      "         [ 1.6508, -5.8006]]], grad_fn=<ViewBackward0>)\n",
      "logits: tensor([[[ 0.2236, -1.9727],\n",
      "         [ 1.9323, -8.0044],\n",
      "         [ 0.3150, -7.9075],\n",
      "         [-0.1698, -0.1334]],\n",
      "\n",
      "        [[ 0.0230, -2.1050],\n",
      "         [ 0.9444, -6.4723],\n",
      "         [ 0.3968, -7.8914],\n",
      "         [ 2.4931, -6.6534]]], grad_fn=<ViewBackward0>)\n",
      "logits: tensor([[[ 0.3108, -2.0439],\n",
      "         [ 0.4649, -7.5989],\n",
      "         [-0.5209, -1.4150],\n",
      "         [ 1.4803, -6.1516]],\n",
      "\n",
      "        [[-0.3077,  0.4218],\n",
      "         [ 1.7231, -8.3833],\n",
      "         [ 0.4264, -7.7518],\n",
      "         [ 1.1332, -6.0283]]], grad_fn=<ViewBackward0>)\n",
      "logits: tensor([[[ 0.3027, -2.0387],\n",
      "         [ 0.9602, -7.5076],\n",
      "         [ 0.1849, -8.1170],\n",
      "         [ 1.8175, -6.1609]],\n",
      "\n",
      "        [[ 0.9403, -2.5680],\n",
      "         [ 0.9007, -6.2579],\n",
      "         [ 0.5433, -7.8465],\n",
      "         [ 1.5978, -5.8357]]], grad_fn=<ViewBackward0>)\n",
      "logits: tensor([[[ 0.9045, -2.5092],\n",
      "         [ 0.9542, -5.8954],\n",
      "         [ 0.5186, -8.0642],\n",
      "         [ 0.9358, -6.0523]],\n",
      "\n",
      "        [[ 0.1854, -2.0778],\n",
      "         [ 0.6698, -7.8674],\n",
      "         [ 0.4948, -7.7663],\n",
      "         [ 1.3948, -5.8657]]], grad_fn=<ViewBackward0>)\n",
      "logits: tensor([[[-0.0280,  0.2484],\n",
      "         [ 0.4722, -7.7245],\n",
      "         [ 0.5520, -8.0521],\n",
      "         [ 1.5918, -5.9322]],\n",
      "\n",
      "        [[ 0.3692, -2.0289],\n",
      "         [ 0.7931, -8.1368],\n",
      "         [ 0.4368, -7.8145],\n",
      "         [ 1.4801, -6.0840]]], grad_fn=<ViewBackward0>)\n",
      "logits: tensor([[[ 0.3145, -2.0518],\n",
      "         [ 1.0025, -7.5649],\n",
      "         [ 0.6003, -8.1544],\n",
      "         [ 2.7768, -6.6615]],\n",
      "\n",
      "        [[ 0.2986, -2.0895],\n",
      "         [ 0.9407, -8.0258],\n",
      "         [ 0.5688, -7.7178],\n",
      "         [ 1.5444, -5.8698]]], grad_fn=<ViewBackward0>)\n",
      "logits: tensor([[[ 0.7861, -2.2801],\n",
      "         [ 1.7048, -8.1542],\n",
      "         [ 0.4771, -8.0194],\n",
      "         [ 1.8224, -6.0694]],\n",
      "\n",
      "        [[ 0.3242, -2.1714],\n",
      "         [ 0.8709, -7.8618],\n",
      "         [ 0.4588, -7.7267],\n",
      "         [ 0.9594, -5.2835]]], grad_fn=<ViewBackward0>)\n"
     ]
    }
   ],
   "source": [
    "gpt2tokenizer = AutoTokenizer.from_pretrained(\"gpt2\")\n",
    "gpt2tokenizer.pad_token = tokenizer.eos_token\n",
    "gpt2 = AutoModelForTokenClassification.from_pretrained(\"gpt2\")\n",
    "\n",
    "inputs = ['I love this place', 'I hate this place']\n",
    "inputs = gpt2tokenizer(inputs, return_tensors=\"pt\", padding=True)\n",
    "print(inputs)\n",
    "\n",
    "convert_dropouts(gpt2, uncertainty_args)\n",
    "activate_mc_dropout(gpt2, activate=True, random=uncertainty_args.inference_prob)\n",
    "\n",
    "dropout_eval_results = {}\n",
    "dropout_eval_results[\"sampled_probabilities\"] = []\n",
    "for _ in range(committee_size):\n",
    "    outputs = gpt2(**inputs)\n",
    "    print(\"logits: {}\".format(outputs.logits))\n",
    "\n",
    "activate_mc_dropout(gpt2, activate=False)\n",
    "logger.info(\"*******Done!!!*******\")"
   ]
  },
  {
   "cell_type": "code",
   "execution_count": 10,
   "metadata": {},
   "outputs": [
    {
     "name": "stdout",
     "output_type": "stream",
     "text": [
      "torch.Size([1, 40000]) 8000\n"
     ]
    },
    {
     "data": {
      "text/html": [
       "\n",
       "                <audio  controls=\"controls\" >\n",
       "                    <source src=\"data:audio/wav;base64,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\" type=\"audio/wav\" />\n",
       "                    Your browser does not support the audio element.\n",
       "                </audio>\n",
       "              "
      ],
      "text/plain": [
       "<IPython.lib.display.Audio object>"
      ]
     },
     "execution_count": 10,
     "metadata": {},
     "output_type": "execute_result"
    }
   ],
   "source": [
    "SAMPLE_NOISE = \"tutorial-assets/Lab41-SRI-VOiCES-rm1-babb-mc01-stu-clo-8000hz.wav\"\n",
    "noise_file = download_asset(SAMPLE_NOISE)\n",
    "noise, sample_rate = torchaudio.load(noise_file)\n",
    "print(noise.shape, sample_rate)\n",
    "Audio(noise, rate=sample_rate)"
   ]
  },
  {
   "cell_type": "code",
   "execution_count": null,
   "metadata": {},
   "outputs": [],
   "source": [
    "# processor = AutoProcessor.from_pretrained(\"facebook/wav2vec2-xls-r-300m-en-to-15\")\n",
    "# model = AutoModelForSpeechSeq2Seq.from_pretrained(\"facebook/wav2vec2-xls-r-300m-en-to-15\")\n",
    "# ds = load_dataset(\"hf-internal-testing/librispeech_asr_dummy\", \"clean\", split=\"validation\")\n",
    "# print(ds[0])\n",
    "\n",
    "# input_values = processor(\n",
    "#     ds[0][\"audio\"][\"array\"], \n",
    "#     return_tensors=\"pt\").input_values\n",
    "# print(input_values.shape)\n",
    "# # Inference: Translate English speech to German\n",
    "# generated = model.generate(input_values)\n",
    "# decoded = processor.batch_decode(generated, skip_special_tokens=True)[0]\n",
    "# print(decoded)\n",
    "\n",
    "# # Training: Train model on English transcription\n",
    "# labels = processor(text=ds[0][\"text\"], return_tensors=\"pt\").input_ids\n",
    "# loss = model(input_values, labels=labels).loss\n",
    "# loss.backward()"
   ]
  },
  {
   "cell_type": "code",
   "execution_count": null,
   "metadata": {},
   "outputs": [],
   "source": [
    "# dataset = load_dataset(\"hf-internal-testing/librispeech_asr_demo\", \"clean\", split=\"validation\")\n",
    "# dataset = dataset.sort(\"id\")\n",
    "# sampling_rate = dataset.features[\"audio\"].sampling_rate\n",
    "\n",
    "# processor = AutoProcessor.from_pretrained(\"facebook/hubert-large-ls960-ft\")\n",
    "# model = AutoModelForCTC.from_pretrained(\"facebook/hubert-large-ls960-ft\")\n",
    "\n",
    "# # audio file is decoded on the fly\n",
    "# inputs = processor(\n",
    "#     dataset[0][\"audio\"][\"array\"], \n",
    "#     sampling_rate=sampling_rate, \n",
    "#     return_tensors=\"pt\")\n",
    "# with torch.no_grad():\n",
    "#     logits = model(**inputs).logits\n",
    "# predicted_ids = torch.argmax(logits, dim=-1)\n",
    "\n",
    "# # transcribe speech\n",
    "# transcription = processor.batch_decode(predicted_ids)\n",
    "# print(transcription[0])\n",
    "\n",
    "# inputs[\"labels\"] = processor(text=dataset[0][\"text\"], return_tensors=\"pt\").input_ids\n",
    "# # compute loss\n",
    "# loss = model(**inputs).loss\n",
    "# round(loss.item(), 2)"
   ]
  },
  {
   "cell_type": "code",
   "execution_count": null,
   "metadata": {},
   "outputs": [],
   "source": [
    "audio_1 = \"LibriSpeech/test-clean/1089/134686/1089-134686-0030.flac\"\n",
    "# model = \"asr-crdnn-rnnlm-librispeech\" \n",
    "# model = \"asr-transformer-transformerlm-librispeech\"\n",
    "# model = \"asr-transformer-transformerlm-librispeech\"\n",
    "# model = \"asr-wav2vec2-librispeech\"\n",
    "model = \"asr-wav2vec2-commonvoice-fr\"\n",
    "\n",
    "# # Uncomment for using another pre-trained model\n",
    "# asr_model = EncoderASR.from_hparams(\n",
    "#     source=f\"speechbrain/{model}\", \n",
    "#     savedir=f\"pretrained_models/{model}\", \n",
    "#     # run_opts={\"device\":\"cuda\"}, # inference on GPU\n",
    "#     hparams_file=\"hyperparams.yaml\",\n",
    "# )\n",
    "# asr_model.transcribe_file(audio_1)\n",
    "\n",
    "asr_model = EncoderASR.from_hparams(\n",
    "    source=\"speechbrain/asr-wav2vec2-commonvoice-fr\",\n",
    "    savedir=f\"pretrained_models/{model}\",\n",
    ") \n",
    "asr_model.transcribe_file(\"samples/audio_samples/example_fr.wav\") "
   ]
  },
  {
   "cell_type": "code",
   "execution_count": null,
   "metadata": {},
   "outputs": [],
   "source": [
    "# asr_model (EncoderDecoderASR)\n",
    "# mods: ModuleDict(InputNormalization, Encoder, Decoder, LM)\n",
    "    # Encoder: LengthsCapableSequential\n",
    "    # Decoder: S2SRNNBeamSearchTransformerLM\n",
    "    # LM: TransformerLM\n",
    "from speechbrain.nnet.containers import LengthsCapableSequential\n",
    "from speechbrain.decoders import S2SRNNBeamSearchLM, S2SRNNBeamSearchTransformerLM\n",
    "from speechbrain.lobes.models.transformer.TransformerLM import TransformerLM\n",
    "\n",
    "return_log_probs = True\n",
    "emb = torch.nn.Embedding(5, 3)\n",
    "dec = sb.nnet.RNN.AttentionalRNNDecoder(\n",
    "    \"gru\", \"content\", 3, 3, 1, enc_dim=7, input_size=3\n",
    ")\n",
    "lin = sb.nnet.linear.Linear(n_neurons=5, input_size=3)\n",
    "lm = TransformerLM(5, 512, 8, 1, 0, 1024, activation=torch.nn.GELU)\n",
    "searcher = S2SRNNBeamSearchTransformerLM(\n",
    "    embedding=emb,\n",
    "    decoder=dec,\n",
    "    linear=lin,\n",
    "    language_model=lm,\n",
    "    bos_index=4,\n",
    "    eos_index=4,\n",
    "    blank_index=4,\n",
    "    min_decode_ratio=0,\n",
    "    max_decode_ratio=1,\n",
    "    beam_size=2,\n",
    "    lm_weight=0.5,\n",
    "    return_log_probs=return_log_probs,\n",
    ")\n",
    "enc = torch.rand([2, 6, 7]) # B X T X D\n",
    "wav_len = torch.rand([2]) # B\n",
    "outputs = searcher(enc, wav_len)\n",
    "if return_log_probs:\n",
    "    predictions, topk_scores, log_probs = outputs\n",
    "    print(\"log-probs: \", log_probs)\n",
    "else:\n",
    "    predictions, topk_scores = outputs\n",
    "print(\"predictions: \", predictions)\n",
    "print(\"topk_scores: \", topk_scores)"
   ]
  },
  {
   "cell_type": "code",
   "execution_count": null,
   "metadata": {},
   "outputs": [],
   "source": [
    "audio_1 = \"LibriSpeech/test-clean/1089/134686/1089-134686-0029.flac\"\n",
    "waveform = asr_model.load_audio(audio_1)\n",
    "# Fake a batch\n",
    "batch = waveform.unsqueeze(0)\n",
    "print('wave tensor: ', batch.shape)\n",
    "rel_length = torch.tensor([1.0])\n",
    "# predicted_words, predicted_tokens = asr_model.transcribe_batch(batch, rel_length)\n",
    "with torch.no_grad():\n",
    "    wav_lens = rel_length\n",
    "    encoder_out = asr_model.encode_batch(batch, wav_lens) # B X T X D\n",
    "    print(encoder_out.shape)\n",
    "    predicted_tokens, scores, log_probs = asr_model.mods.decoder(encoder_out, wav_lens)\n",
    "    print([len(tokens) for tokens in predicted_tokens])\n",
    "    print(\"scores: \", scores.shape)\n",
    "    print(\"log_probs: \", [log_prob.shape for log_prob in log_probs])\n",
    "    predicted_words = [\n",
    "        asr_model.tokenizer.decode_ids(token_seq)\n",
    "        for token_seq in predicted_tokens\n",
    "    ]\n",
    "    print(predicted_words)"
   ]
  },
  {
   "cell_type": "code",
   "execution_count": null,
   "metadata": {},
   "outputs": [],
   "source": [
    "preds1 = 'BEWARE OF MAKING THAT MISTAKE'\n",
    "preds2 = 'GIVE NOT SO EARNEST A MIND TO THESE MUMMERIES CHILD'"
   ]
  },
  {
   "cell_type": "code",
   "execution_count": null,
   "metadata": {},
   "outputs": [],
   "source": [
    "asr_model.tokenizer.decode_ids([224, 336, 11, 53, 90, 32, 66, 49])"
   ]
  },
  {
   "cell_type": "code",
   "execution_count": null,
   "metadata": {},
   "outputs": [],
   "source": [
    "import re\n",
    "f1 = open(\"LibriSpeech-asr-crdnn-rnnlm-librispeech-energy.log\", \"r\")\n",
    "f2 = open(\"LibriSpeech-asr-crdnn-transformerlm-librispeech-energy.log\", \"r\")\n",
    "\n",
    "def get_XY(f):\n",
    "    unit = \"mW\"\n",
    "    inss, avgs = [], []\n",
    "    for line in f:\n",
    "        r = re.compile('VDD_GPU_SOC (.+?)([ \\.]|$)')\n",
    "        patterns = re.findall(r, line)\n",
    "        if not patterns:\n",
    "            continue\n",
    "        GPU_pair = patterns[0][0]\n",
    "        ins, avg = GPU_pair.split('/')\n",
    "        ins = int(ins.rstrip(unit))\n",
    "        inss.append(ins)\n",
    "        avg = int(avg.rstrip(unit))\n",
    "        avgs.append(avg)\n",
    "    return inss, avgs\n",
    "\n",
    "inss1, avgs1 = get_XY(f1)\n",
    "inss2, avgs2 = get_XY(f2)"
   ]
  },
  {
   "cell_type": "code",
   "execution_count": null,
   "metadata": {},
   "outputs": [],
   "source": [
    "import numpy as np\n",
    "import matplotlib as mpl\n",
    "import matplotlib.pyplot as plt\n",
    "\n",
    "xx2 = np.arange(len(inss2))\n",
    "yy2 = np.array(inss2)\n",
    "plt.plot(xx2, yy2, label='CRDNN + TransLM')\n",
    "plt.fill_between(xx2, yy2, y2 = min(yy2), alpha=0.3,)\n",
    "xx1 = np.arange(len(inss1))\n",
    "yy1 = np.array(inss1)\n",
    "plt.plot(xx1, yy1, label='CRDNN + RNNLM')\n",
    "plt.fill_between(xx1, yy1, y2 = min(yy1), alpha=0.3,)\n",
    "plt.legend()\n",
    "plt.show()"
   ]
  },
  {
   "cell_type": "code",
   "execution_count": null,
   "metadata": {},
   "outputs": [],
   "source": [
    "import pandas as pd\n",
    "import seaborn as sns\n",
    "\n",
    "df = pd.DataFrame(\n",
    "    {\n",
    "        'Energy': [min(inss2[2:]), min(inss1[2:]), np.mean(inss2[1:]), np.mean(inss1[1:]), max(inss2[1:]), max(inss1[1:])],\n",
    "        'Model': ['CRDNN + TransLM', 'CRDNN + RNNLM']*3,\n",
    "    }\n",
    ")\n",
    "print(df)\n",
    "f = plt.figure(figsize=(4.5, 6))\n",
    "ax = sns.boxplot(x='Model', y='Energy', data=df, hue='Model', dodge=False, width=0.5)"
   ]
  },
  {
   "attachments": {},
   "cell_type": "markdown",
   "metadata": {},
   "source": [
    "### Add noise"
   ]
  },
  {
   "cell_type": "code",
   "execution_count": null,
   "metadata": {},
   "outputs": [],
   "source": [
    "SAMPLE_WAV = \"LibriSpeech/test-clean/1089/134686/1089-134686-0030.flac\"\n",
    "# SAMPLE_WAV = download_asset(\"tutorial-assets/steam-train-whistle-daniel_simon.wav\")\n",
    "print(SAMPLE_WAV)\n",
    "waveform = asr_model.load_audio(SAMPLE_WAV).unsqueeze(0)\n",
    "\n",
    "print(waveform)\n",
    "plot_waveform(waveform, 16000)\n",
    "Audio(waveform, rate=16000)"
   ]
  },
  {
   "cell_type": "code",
   "execution_count": null,
   "metadata": {},
   "outputs": [],
   "source": [
    "SAMPLE_NOISE = download_asset(\"tutorial-assets/Lab41-SRI-VOiCES-rm1-babb-mc01-stu-clo-8000hz.wav\")\n",
    "# noise, noise_sample_rate = torchaudio.load(SAMPLE_NOISE)\n",
    "noise = asr_model.load_audio(SAMPLE_NOISE).unsqueeze(0)\n",
    "print(noise.shape)\n",
    "plot_waveform(noise, 16000)\n",
    "Audio(noise, rate=16000)"
   ]
  },
  {
   "cell_type": "code",
   "execution_count": null,
   "metadata": {},
   "outputs": [],
   "source": [
    "from math import ceil\n",
    "# Handle noise\n",
    "if noise.shape[1] < waveform.shape[1]:\n",
    "    K = ceil(waveform.shape[1] / noise.shape[1])\n",
    "    noi = noise.repeat(1, K)[:, :waveform.shape[1]]\n",
    "else:\n",
    "    noi = noise[:, :waveform.shape[1]]\n",
    "\n",
    "print(waveform.shape, noi.shape)\n",
    "snr_dbs = torch.tensor([20, 10, 3])\n",
    "noisy_speech = add_noise(waveform, noi, snr_dbs)\n",
    "print(noisy_speech.shape)\n",
    "plot_waveform(noisy_speech.mean(dim=0).unsqueeze(0), 16000)\n",
    "Audio(noisy_speech.mean(dim=0).unsqueeze(0), rate=16000)\n",
    "# noisy_speech = waveform + noi\n",
    "# print(noisy_speech)\n",
    "# plot_waveform(noisy_speech, 16000)\n",
    "# Audio(noisy_speech, rate=16000)"
   ]
  },
  {
   "cell_type": "code",
   "execution_count": null,
   "metadata": {},
   "outputs": [],
   "source": [
    "import torch\n",
    "from typing import Optional\n",
    "\n",
    "def add_noise(\n",
    "    waveform: torch.Tensor, noise: torch.Tensor, snr: torch.Tensor, lengths: Optional[torch.Tensor] = None\n",
    ") -> torch.Tensor:\n",
    "    if not (waveform.ndim - 1 == noise.ndim - 1 == snr.ndim and (lengths is None or lengths.ndim == snr.ndim)):\n",
    "        raise ValueError(\"Input leading dimensions don't match.\")\n",
    "\n",
    "    L = waveform.size(-1)\n",
    "\n",
    "    if L != noise.size(-1):\n",
    "        raise ValueError(f\"Length dimensions of waveform and noise don't match (got {L} and {noise.size(-1)}).\")\n",
    "\n",
    "    # compute scale\n",
    "    if lengths is not None:\n",
    "        mask = torch.arange(0, L, device=lengths.device).expand(waveform.shape) < lengths.unsqueeze(\n",
    "            -1\n",
    "        )  # (*, L) < (*, 1) = (*, L)\n",
    "        masked_waveform = waveform * mask\n",
    "        masked_noise = noise * mask\n",
    "    else:\n",
    "        masked_waveform = waveform\n",
    "        masked_noise = noise\n",
    "\n",
    "    energy_signal = torch.linalg.vector_norm(masked_waveform, ord=2, dim=-1) ** 2  # (*,)\n",
    "    energy_noise = torch.linalg.vector_norm(masked_noise, ord=2, dim=-1) ** 2  # (*,)\n",
    "    original_snr_db = 10 * (torch.log10(energy_signal) - torch.log10(energy_noise))\n",
    "    scale = 10 ** ((original_snr_db - snr) / 20.0)  # (*,)\n",
    "\n",
    "    # scale noise\n",
    "    scaled_noise = scale.unsqueeze(-1) * noise  # (*, 1) * (*, L) = (*, L)\n",
    "\n",
    "    return waveform + scaled_noise  # (*, L)"
   ]
  },
  {
   "cell_type": "code",
   "execution_count": null,
   "metadata": {},
   "outputs": [],
   "source": [
    "# SAMPLE_NOISE = download_asset(\"tutorial-assets/Lab41-SRI-VOiCES-rm1-babb-mc01-stu-clo-8000hz.wav\")\n",
    "# noise, noise_sample_rate = torchaudio.load(SAMPLE_NOISE)\n",
    "\n",
    "SAMPLE_WAV = \"LibriSpeech/test-clean/1089/134686/1089-134686-0030.flac\"\n",
    "# SAMPLE_WAV = download_asset(\"tutorial-assets/steam-train-whistle-daniel_simon.wav\")\n",
    "print(SAMPLE_WAV)\n",
    "waveform = asr_model.load_audio(SAMPLE_WAV)\n",
    "# Fake a batch\n",
    "batch = waveform.unsqueeze(0)\n",
    "print('wave tensor: ', batch.shape)\n",
    "# Add noise\n",
    "noise = torch.tensor(np.random.normal(0, 0.5, 100000).reshape(1, -1))\n",
    "noise = noise[:, :waveform.shape[0]]\n",
    "snr_dbs = torch.tensor([20, 10, 3])\n",
    "noisy_speech = add_noise(batch, noise, snr_dbs)\n",
    "rel_length = torch.tensor([1.0])\n",
    "\n",
    "predicted_words, predicted_tokens = asr_model.transcribe_batch(batch, rel_length)\n",
    "print(predicted_words)\n",
    "predicted_words, predicted_tokens = asr_model.transcribe_batch(noisy_speech[1:2], rel_length)\n",
    "print(predicted_words)\n",
    "# with torch.no_grad():\n",
    "#     wav_lens = rel_length\n",
    "#     encoder_out = asr_model.encode_batch(batch, wav_lens) # B X T X D\n",
    "#     print(encoder_out.shape)\n",
    "#     predicted_tokens, scores = asr_model.mods.decoder(encoder_out, wav_lens)\n",
    "#     print(predicted_tokens)\n",
    "#     predicted_words = [\n",
    "#         asr_model.tokenizer.decode_ids(token_seq)\n",
    "#         for token_seq in predicted_tokens\n",
    "#     ]\n",
    "#     print(predicted_words)"
   ]
  },
  {
   "cell_type": "code",
   "execution_count": null,
   "metadata": {},
   "outputs": [],
   "source": [
    "from IPython.display import Audio\n",
    "\n",
    "# noisy_speech.shape\n",
    "Audio(noise, rate=noise_sample_rate)"
   ]
  },
  {
   "cell_type": "code",
   "execution_count": null,
   "metadata": {},
   "outputs": [],
   "source": [
    "waveform, sample_rate = torchaudio.load(SAMPLE_WAV)\n",
    "\n",
    "Audio(waveform, rate=sample_rate)"
   ]
  },
  {
   "cell_type": "code",
   "execution_count": null,
   "metadata": {},
   "outputs": [],
   "source": [
    "Audio(noisy_speech, rate=16000)"
   ]
  },
  {
   "cell_type": "code",
   "execution_count": null,
   "metadata": {},
   "outputs": [],
   "source": [
    "batch.shape"
   ]
  },
  {
   "cell_type": "code",
   "execution_count": null,
   "metadata": {},
   "outputs": [],
   "source": [
    "waveform.shape"
   ]
  },
  {
   "cell_type": "code",
   "execution_count": null,
   "metadata": {},
   "outputs": [],
   "source": [
    "noise.shape"
   ]
  },
  {
   "cell_type": "code",
   "execution_count": null,
   "metadata": {},
   "outputs": [],
   "source": [
    "noise_sample_rate"
   ]
  },
  {
   "cell_type": "code",
   "execution_count": null,
   "metadata": {},
   "outputs": [],
   "source": [
    "SAMPLE_NOISE = download_asset(\"tutorial-assets/Lab41-SRI-VOiCES-rm1-babb-mc01-stu-clo-8000hz.wav\")"
   ]
  },
  {
   "cell_type": "code",
   "execution_count": null,
   "metadata": {},
   "outputs": [],
   "source": [
    "# import os\n",
    "# from pathlib import Path\n",
    "# SAMPLE_RATE = 44100\n",
    "# BASE_DIR = Path(os.path.abspath(os.path.dirname(os.path.dirname(__file__))))\n",
    "# SCRIPTS_DIR = BASE_DIR / \"scripts\"\n",
    "# TEST_FIXTURES_DIR = BASE_DIR / \"test_fixtures\"\n",
    "\n",
    "from torch_audiomentations import Compose, Gain, PolarityInversion, AddBackgroundNoise\n",
    "from torch_audiomentations.utils import TEST_FIXTURES_DIR\n",
    "\n",
    "# Initialize augmentation callable\n",
    "apply_augmentation = Compose(\n",
    "    transforms=[\n",
    "        Gain(\n",
    "            min_gain_in_db=-15.0,\n",
    "            max_gain_in_db=5.0,\n",
    "            p=0.5,\n",
    "        ),\n",
    "        PolarityInversion(p=0.5),\n",
    "        AddBackgroundNoise(\n",
    "            background_paths=TEST_FIXTURES_DIR / \"bg\", \n",
    "            p=0.5,\n",
    "        )\n",
    "    ]\n",
    ")\n",
    "\n",
    "perturbed_audio_samples = apply_augmentation(batch.unsqueeze(0), sample_rate=16000)\n",
    "\n",
    "# modes = [\"per_batch\", \"per_example\", \"per_channel\"]\n",
    "# for mode in modes:\n",
    "#     transform = {\n",
    "#         \"get_instance\": lambda: AddBackgroundNoise(\n",
    "#             background_paths=TEST_FIXTURES_DIR / \"bg\", mode=mode, p=1.0\n",
    "#         ),\n",
    "#         \"num_runs\": 5,\n",
    "#     }\n",
    "#     perturbed_audio_samples = transform(batch.unsqueeze(0), sample_rate=SAMPLE_RATE)\n",
    "    \n",
    "\n",
    "# transform = AddBackgroundNoise(\n",
    "#     os.path.join(tempfile.gettempdir(), str(uuid.uuid4())),\n",
    "#     min_snr_in_db=4,\n",
    "#     max_snr_in_db=6,\n",
    "#     p=1.0,\n",
    "#     sample_rate=16000,\n",
    "#     output_type=\"dict\",\n",
    "# )"
   ]
  },
  {
   "cell_type": "code",
   "execution_count": null,
   "metadata": {},
   "outputs": [],
   "source": [
    "batch.shape"
   ]
  },
  {
   "cell_type": "code",
   "execution_count": null,
   "metadata": {},
   "outputs": [],
   "source": [
    "perturbed_audio_samples"
   ]
  },
  {
   "cell_type": "code",
   "execution_count": null,
   "metadata": {},
   "outputs": [],
   "source": [
    "Audio(perturbed_audio_samples.squeeze(0), rate=16000)"
   ]
  },
  {
   "cell_type": "code",
   "execution_count": null,
   "metadata": {},
   "outputs": [],
   "source": [
    "batch"
   ]
  },
  {
   "cell_type": "code",
   "execution_count": null,
   "metadata": {},
   "outputs": [],
   "source": [
    "Audio(batch, rate=16000)"
   ]
  },
  {
   "cell_type": "code",
   "execution_count": null,
   "metadata": {},
   "outputs": [],
   "source": [
    "import matplotlib.pyplot as plt\n",
    "def plot_waveform(waveform, sample_rate, title=\"Waveform\", xlim=None):\n",
    "    if isinstance(waveform, torch.Tensor):\n",
    "        waveform = waveform.numpy()\n",
    "\n",
    "    num_channels, num_frames = waveform.shape\n",
    "    time_axis = torch.arange(0, num_frames) / sample_rate\n",
    "\n",
    "    figure, axes = plt.subplots(num_channels, 1)\n",
    "    if num_channels == 1:\n",
    "        axes = [axes]\n",
    "    for c in range(num_channels):\n",
    "        axes[c].plot(time_axis, waveform[c], linewidth=1)\n",
    "        axes[c].grid(True)\n",
    "        if num_channels > 1:\n",
    "            axes[c].set_ylabel(f\"Channel {c+1}\")\n",
    "        if xlim:\n",
    "            axes[c].set_xlim(xlim)\n",
    "    figure.suptitle(title)\n",
    "    plt.show(block=False)"
   ]
  },
  {
   "cell_type": "code",
   "execution_count": null,
   "metadata": {},
   "outputs": [],
   "source": [
    "# self-define gaussian noise\n",
    "import numpy as np\n",
    "\n",
    "# Adding noise using a target noise power\n",
    "\n",
    "# Set a target channel noise power to something very noisy\n",
    "target_noise_db = 10\n",
    "\n",
    "# Convert to linear Watt units\n",
    "target_noise_watts = 10 ** (target_noise_db / 10)\n",
    "\n",
    "# Generate noise samples\n",
    "mean_noise = 0\n",
    "noise_volts = np.random.normal(mean_noise, np.sqrt(target_noise_watts), len(x_watts))\n",
    "\n",
    "# Noise up the original signal (again) and plot\n",
    "y_volts = x_volts + noise_volts\n"
   ]
  },
  {
   "cell_type": "code",
   "execution_count": null,
   "metadata": {},
   "outputs": [],
   "source": [
    "\n",
    "noise = np.random.normal(0, 0.1, 80000).reshape(1, -1)\n",
    "# plt.plot(noise)\n",
    "plot_waveform(noise, noise_sample_rate)"
   ]
  },
  {
   "cell_type": "code",
   "execution_count": 10,
   "metadata": {},
   "outputs": [
    {
     "name": "stdout",
     "output_type": "stream",
     "text": [
      "K: 2\n",
      "w: torch.Size([1, 584, 80])\n"
     ]
    }
   ],
   "source": [
    "x = torch.rand(1, 498, 80)\n",
    "b = torch.rand(1, 584, 80)\n",
    "\n",
    "K = ceil(b.shape[1] / x.shape[1])\n",
    "print(\"K: {}\".format(K))\n",
    "w: torch.Tensor = x.repeat(1, K, 1)[:, :b.shape[1], :]\n",
    "print(\"w: {}\".format(w.shape))"
   ]
  },
  {
   "cell_type": "code",
   "execution_count": null,
   "metadata": {},
   "outputs": [],
   "source": []
  }
 ],
 "metadata": {
  "kernelspec": {
   "display_name": "py3.10",
   "language": "python",
   "name": "python3"
  },
  "language_info": {
   "codemirror_mode": {
    "name": "ipython",
    "version": 3
   },
   "file_extension": ".py",
   "mimetype": "text/x-python",
   "name": "python",
   "nbconvert_exporter": "python",
   "pygments_lexer": "ipython3",
   "version": "3.10.8"
  },
  "orig_nbformat": 4,
  "vscode": {
   "interpreter": {
    "hash": "29966b4b85dd369f0f60e5cdfe24bb91fae213e2bd4adc2b4429ab38cab7a2d3"
   }
  }
 },
 "nbformat": 4,
 "nbformat_minor": 2
}
