{
 "cells": [
  {
   "cell_type": "code",
   "execution_count": 1,
   "metadata": {},
   "outputs": [],
   "source": [
    "# # Download + Unpacking test-clean of librispeech\n",
    "# import shutil\n",
    "# from speechbrain.utils.data_utils import download_file\n",
    "\n",
    "# MINILIBRI_TEST_URL = \"https://www.openslr.org/resources/12/test-clean.tar.gz\"\n",
    "# download_file(MINILIBRI_TEST_URL, 'test-clean.tar.gz')\n",
    "# shutil.unpack_archive( 'test-clean.tar.gz', '.')"
   ]
  },
  {
   "cell_type": "code",
   "execution_count": 2,
   "metadata": {},
   "outputs": [
    {
     "data": {
      "text/plain": [
       "'BEWARE OF MAKING THAT MISTAKE'"
      ]
     },
     "execution_count": 2,
     "metadata": {},
     "output_type": "execute_result"
    }
   ],
   "source": [
    "# Let's decode a single sentence:\n",
    "from speechbrain.pretrained import EncoderDecoderASR\n",
    "audio_1 = \"LibriSpeech/test-clean/1089/134686/1089-134686-0030.flac\"\n",
    "model = \"asr-crdnn-rnnlm-librispeech\" # asr-crdnn-transformerlm-librispeech, asr-transformer-transformerlm-librispeech\n",
    "\n",
    "# Uncomment for using another pre-trained model\n",
    "asr_model = EncoderDecoderASR.from_hparams(\n",
    "    source=f\"speechbrain/{model}\", \n",
    "    savedir=f\"pretrained_models/{model}\", \n",
    "    # run_opts={\"device\":\"cuda\"}, # inference on GPU\n",
    ")\n",
    "asr_model.transcribe_file(audio_1)"
   ]
  },
  {
   "cell_type": "code",
   "execution_count": 6,
   "metadata": {},
   "outputs": [],
   "source": [
    "import torch\n",
    "waveform = asr_model.load_audio(audio_1)\n",
    "# Fake a batch\n",
    "batch = waveform.unsqueeze(0)\n",
    "rel_length = torch.tensor([1.0])\n",
    "predicted_words, predicted_tokens = asr_model.transcribe_batch(batch, rel_length)"
   ]
  },
  {
   "cell_type": "code",
   "execution_count": 16,
   "metadata": {},
   "outputs": [],
   "source": [
    "preds1 = 'BEWARE OF MAKING THAT MISTAKE'\n",
    "preds2 = 'GIVE NOT SO EARNEST A MIND TO THESE MUMMERIES CHILD'"
   ]
  },
  {
   "cell_type": "code",
   "execution_count": 17,
   "metadata": {},
   "outputs": [
    {
     "name": "stdout",
     "output_type": "stream",
     "text": [
      "0.0\n"
     ]
    }
   ],
   "source": [
    "from speechbrain.utils.metric_stats import ErrorRateStats\n",
    "from evaluate import load\n",
    "\n",
    "wer = load('wer')\n",
    "wer_score = wer.compute(predictions=[preds1, preds2], references=[preds1, preds2])\n",
    "print(wer_score)"
   ]
  },
  {
   "cell_type": "code",
   "execution_count": 39,
   "metadata": {},
   "outputs": [],
   "source": [
    "pf = \"LibriSpeech/test-clean/61/70968/61-70968.preds.txt\"\n",
    "lf = \"LibriSpeech/test-clean/61/70968/61-70968.trans.txt\"\n",
    "f1 = open(pf, \"r\")\n",
    "f2 = open(lf, \"r\")"
   ]
  },
  {
   "cell_type": "code",
   "execution_count": 40,
   "metadata": {},
   "outputs": [
    {
     "data": {
      "text/plain": [
       "['HE BEGAN A CONFUSED COMPLAINT AGAINST THE WIZARD WHO HAD VANISHED BEHIND THE CURTAIN ON THE LEFT',\n",
       " 'GIVE NOT SO EARNEST A MIND TO THESE MUMMERIES CHILD',\n",
       " 'A GOLDEN FORTUNE AND A HAPPY LIFE',\n",
       " 'HE WAS LIKE UNTO MY FATHER IN A WAY AND YET WAS NOT MY FATHER',\n",
       " 'ALSO THERE WAS A STRIPLING PAGE WHO TURNED INTO A MAID',\n",
       " 'THIS WAS SO SWEET A LADY SIR AND IN SOME MANNER I DO THINK SHE DIED',\n",
       " 'BUT THEN THE PICTURE WAS GONE AS QUICKLY AS IT CAME',\n",
       " 'SISTER NELL DO YOU HEAR THESE MARVELS',\n",
       " 'TAKE YOUR PLACE AND LET US SEE WHAT THE CRYSTAL CAN SHOW TO YOU',\n",
       " 'LIKE AS NOT YOUNG MASTER THOUGH I AM AN OLD MAN',\n",
       " 'FORTHWITH ALL RAN TO THE OPENING OF THE TENT TO SEE WHAT MIGHT BE AMISS BUT MASTER WILL WHO PEEPED OUT FIRST NEEDED NO MORE THAN ONE GLANCE',\n",
       " 'HE GAVE WAY TO THE OTHERS VERY READILY AND RETREATED UNPERCEIVED BY THE SQUIRE AND MISTRESS FITZOOTH TO THE REAR OF THE TENT',\n",
       " 'CRIES OF A KNOTTINGHAM A KNOTTINGHAM',\n",
       " 'BEFORE THEM FLED THE STROLLER AND HIS THREE SONS CAPLESS AND TERRIFIED',\n",
       " 'WHAT IS THAT TUMULT AND RIOTING CRIED OUT THE SQUIRE AUTHORITATIVELY AND HE BLEW TWICE ON THE SILVER WHISTLE WHICH HUNG AT HIS BELT',\n",
       " 'NAY WE REFUSE THEIR REQUEST MOST POLITELY MOST NOBLE SAID THE LITTLE STROLLER',\n",
       " 'AND THEN THEY BECAME VEXED AND WOULD HAVE SNATCHED YOUR PURSE FROM US',\n",
       " \"I COULD NOT SEE MY BOY INJURED EXCELLENCE FOR BUT DOING HIS DUTY AS ONE OF CUMBERLAND'S SONS\",\n",
       " 'SO I DID PUSH THIS FELLOW',\n",
       " 'IT IS ENOUGH SAID GEORGE GAMEWELL SHARPLY AS HE TURNED UPON THE CROWD',\n",
       " 'SHAME ON YOU CITIZENS CRIED HE I BLUSH FOR MY FELLOWS OF NOTTINGHAM',\n",
       " 'SURELY WE CAN SUBMIT WITH GOOD GRACE',\n",
       " 'TIS FINE FOR YOU TO TALK OLD MAN ANSWERED THE LEAN SULLEN APPRENTICE',\n",
       " 'BUT I WRESTLED WITH THIS FELLOW AND DO KNOW THAT HE PLAYED ON FAIRLY IN THE SECOND BOUT',\n",
       " 'SPOKE THE SQUIRE LOSING ALL PATIENT AND IT WAS TO YOU THAT I GAVE ANOTHER PERSON CONSOLATION',\n",
       " 'COME TO ME MEN HERE HERE HE RAISED HIS VOICE STILL LOUDER',\n",
       " 'THE STROLLERS TOOK THEIR PART IN IT WITH HEARTY ZEST NOW THAT THEY HAD SOME CHANCE OF BEATING OFF THEIR FOES',\n",
       " 'ROBIN AND THE LITTLE TUMBLER BETWEEN THEM TRIED TO FORCE THE SQUIRE TO STAND BACK AND VERY VALIANTLY DID THESE TWO COMPORT THEMSELVES',\n",
       " 'THE HEAD AND CHIEF OF THE RIOT THE NOTTINGHAM APPRENTICE WITH CLENCHED FISTS THREATENED MONTFICHET',\n",
       " 'THE SQUIRE HELPED TO THRUST THEM ALL IN AND ENTERED SWIFTLY HIMSELF',\n",
       " 'NOW BE SILENT ON YOUR LIVES HE BEGAN BUT THE CAPTURED APPRENTICE SET UP AN INSTANT SHOUT',\n",
       " 'SILENCE YOU KNAVE CRIED MONTFICHET',\n",
       " \"HE FELT FOR AND FOUND THE WIZARD'S BLACKCLOTH THE SQUIRE WAS QUITE OUT OF BREATH\",\n",
       " 'THRUSTING OPEN THE PROPER ENTRANCE OF THE TENT ROBIN SUDDENLY RUSHED FORTH WITH HIS BURDEN WITH A GREAT SHOUT',\n",
       " 'A MONTFICHE A MONTFICHET GAMEWELL TO THE RESCUE',\n",
       " \"TAKING ADVANTAGE OF THIS THE SQUIRE'S FEW MEN REDOUBLED THEIR EFFORTS AND ENCOURAGED BY ROBIN'S AND THE LITTLE STROLLER'S CRIES FOUGHT THEIR WAY TO HIM\",\n",
       " 'GEORGE MONTFICHET WILL NEVER FORGET THIS DAY',\n",
       " 'WHAT IS YOUR NAME LORDING ASKED THE LITTLE STROLLER PRESENTLY',\n",
       " 'ROBIN FITZOOTH',\n",
       " 'AND MINE IS WILL STUTELEY SHALL WE BE COMRADES',\n",
       " 'RIGHT WILLINGLY FOR BETWEEN US WE HAVE WON THE BATTLE ANSWERED ROBIN',\n",
       " 'I LIKE YOU WILL YOU ARE THE SECOND WILL THAT I HAVE MET IN LIGHT WITHIN TWO DAYS IS THERE A SIGN IN THAT',\n",
       " 'MONTFICHET CALLED OUT FOR ROBIN TO GIVE HIM AN ARM',\n",
       " \"FRIENDS SAID MONTFICHET FAINTLY TO THE WRESTLERS BEAR US ESCORT SO FAR AS THE SHERIFF'S HOUSE\",\n",
       " 'IT WILL NOT BE SAFE FOR YOU TO STAY HERE NOW',\n",
       " \"PRAY FOLLOW US WITH MINE AND MY LORD SHERIFF'S MEN\",\n",
       " 'NOTTINGHAM CASTLE WAS REACHED AND ADMITTANCE WAS DEMANDED',\n",
       " 'MASTER MONSIEUR THE SHERIFF OF NOTTINGHAM WAS MIGHTILY PUT ABOUT WHEN TOLD OF THE RIOTING',\n",
       " 'AND HENRY MIGHT RETURN TO ENGLAND AT ANY MOMENT',\n",
       " 'HAVE YOUR WILL CHILD IF THE BOY ALSO WILLS IT MONTFICHET ANSWERED FEELING TOO ILL TO OPPOSE ANYTHING VERY STRONGLY JUST THEN',\n",
       " 'HE MADE AN EFFORT TO HIDE HIS CONDITION FROM THEM ALL AND ROBIN FELT HIS FINGERS TIGHTEN UPON HIS ARM',\n",
       " 'MAKE ME A ROOM OF THE SHERIFF CHILD QUICKLY',\n",
       " 'BUT WHO IS THIS FELLOW PLUCKING AT HER SLEEVE',\n",
       " 'HE IS MY ESQUIRE EXCELLENCY RETURNED ROBIN WITH DIGNITY',\n",
       " \"MISTRESS FITZOOTH HAD BEEN CARRIED OFF BY THE SHERIFF'S DAUGHTER AND HER MAIDS AS SOON AS THEY HAD ENTERED THE HOUSE SO THAT ROBIN ALONE HAD THE CARE OF MONTFICHET\",\n",
       " 'ROBIN WAS GLAD WHEN AT LENGTH THEY WERE LEFT TO THEIR OWN DEVICES',\n",
       " \"THE WINE DID CERTAINLY BRING BACK THE COLOR TO THE SQUIRE'S CHEEKS\",\n",
       " 'THESE ESCAPADES ARE NOT FOR OLD GAMEWELL LAD HIS DAY HAS COME TO TWILIGHT',\n",
       " 'WILL YOU FORGIVE ME NOW',\n",
       " \"IT'LL BE NO DISAPPOINTMENT TO ME\",\n",
       " 'NO THANKS I AM GLAD TO GIVE YOU SUCH EASY HAPPINESS',\n",
       " 'YOU ARE A WORTHY LEECH WILL PRESENTLY WHISPERED ROBIN THE WINE HAS WORKED A MARVEL',\n",
       " 'I AND SHOW YOU SOME PRETTY TRICKS',\n",
       " 'finished! Total #seqs: 63, latency: 808.91716837883s, avg latency: 12.8400s']"
      ]
     },
     "execution_count": 40,
     "metadata": {},
     "output_type": "execute_result"
    }
   ],
   "source": [
    "# for pred, label in zip(f1, f2):\n",
    "#     print(pred, label)\n",
    "[' '.join(line.split()[1:]) for line in f1.read().splitlines()]"
   ]
  },
  {
   "cell_type": "code",
   "execution_count": null,
   "metadata": {},
   "outputs": [],
   "source": []
  }
 ],
 "metadata": {
  "kernelspec": {
   "display_name": "Python 3",
   "language": "python",
   "name": "python3"
  },
  "language_info": {
   "codemirror_mode": {
    "name": "ipython",
    "version": 3
   },
   "file_extension": ".py",
   "mimetype": "text/x-python",
   "name": "python",
   "nbconvert_exporter": "python",
   "pygments_lexer": "ipython3",
   "version": "3.9.16"
  },
  "orig_nbformat": 4,
  "vscode": {
   "interpreter": {
    "hash": "1b55ed63214765a8fb2b031459baffa0242b1964849c62730513f82601376834"
   }
  }
 },
 "nbformat": 4,
 "nbformat_minor": 2
}
